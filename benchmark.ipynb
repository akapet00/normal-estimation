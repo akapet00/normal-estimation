{
 "cells": [
  {
   "cell_type": "code",
   "execution_count": null,
   "id": "b0f12bf6-3d49-4457-82ad-ce25ff2a821d",
   "metadata": {},
   "outputs": [],
   "source": [
    "import matplotlib.pyplot as plt\n",
    "import numpy as np\n",
    "from scipy import interpolate\n",
    "from scipy import spatial\n",
    "\n",
    "from src.data import load_point_cloud\n",
    "from src.plotting import show_point_cloud, draw_unit_cube\n",
    "from src.orientation import orient_normals\n",
    "from src.metrics import weight, rms_angle_error"
   ]
  },
  {
   "cell_type": "markdown",
   "id": "6869f192-56b1-4eec-860c-7b1507c076b8",
   "metadata": {},
   "source": [
    "# Ground truth data"
   ]
  },
  {
   "cell_type": "code",
   "execution_count": null,
   "id": "0614df26-ef7a-4965-b292-21f37edfe6c3",
   "metadata": {},
   "outputs": [],
   "source": [
    "xyz, n = load_point_cloud('netsuke')"
   ]
  },
  {
   "cell_type": "code",
   "execution_count": null,
   "id": "77a41c8e-ff38-4da2-97fe-4900619a16e6",
   "metadata": {},
   "outputs": [],
   "source": [
    "_, ax = show_point_cloud(xyz, n, elev=20, azim=-20);"
   ]
  },
  {
   "cell_type": "code",
   "execution_count": null,
   "id": "8c638e7d-4917-4eab-a1a0-73f02def6171",
   "metadata": {},
   "outputs": [],
   "source": [
    "draw_unit_cube(elev=ax.elev, azim=ax.azim);"
   ]
  },
  {
   "cell_type": "markdown",
   "id": "80e2d243-4c7d-4602-9d2d-58103fb6215d",
   "metadata": {},
   "source": [
    "# Normal estimation"
   ]
  },
  {
   "cell_type": "markdown",
   "id": "5dbf56c7-01c1-4a5e-93c6-cb330faf7e55",
   "metadata": {},
   "source": [
    "## 1. PCA"
   ]
  },
  {
   "cell_type": "markdown",
   "id": "9e14e41e-b967-4843-bfe0-662332a5a213",
   "metadata": {},
   "source": [
    "Hoppe et al. \"Surface reconstruction from unorganized points,\" In proceedings of SIGGRAPH Comput. Graph. 26(2):71-78, 1992. https://doi.org/10.1145/142920.134011"
   ]
  },
  {
   "cell_type": "code",
   "execution_count": null,
   "id": "00763224-86dd-4a2f-a4ed-7d7993434d9c",
   "metadata": {},
   "outputs": [],
   "source": [
    "def estimate_normals_pca(xyz, k=30, kernel=None, **kwargs):\n",
    "    # create a kd-tree for quick nearest-neighbor lookup\n",
    "    tree = spatial.KDTree(xyz)\n",
    "    n = np.empty_like(xyz)\n",
    "    for i, p in enumerate(xyz):\n",
    "        # extract the local neighborhood\n",
    "        _, idx = tree.query([p], k=k, eps=0.1, workers=-1)\n",
    "        nbhd = xyz[idx.flatten()]\n",
    "        \n",
    "        # compute the kernel function and create the weights matrix\n",
    "        if kernel:\n",
    "            w = weight(p, nbhd, kernel, **kwargs)\n",
    "        else:\n",
    "            w = np.ones((nbhd.shape[0], ))\n",
    "        W = np.diag(w)\n",
    "        \n",
    "        # extract an eigenvector with smallest associeted eigenvalue\n",
    "        X = nbhd.copy()\n",
    "        X = X - X.mean(axis=0)\n",
    "        C = (X.T @ (W @ X)) / (nbhd.shape[0] - 1)\n",
    "        U, S, VT = np.linalg.svd(C)\n",
    "        n[i, :] =  U[:, np.argmin(S)]\n",
    "    return n"
   ]
  },
  {
   "cell_type": "code",
   "execution_count": null,
   "id": "fb89778a-1e91-49c4-8474-7142c3251770",
   "metadata": {},
   "outputs": [],
   "source": [
    "n_pca = estimate_normals_pca(xyz, k=30, kernel='rbf')\n",
    "n_pca = orient_normals(xyz, n_pca, k=30)"
   ]
  },
  {
   "cell_type": "code",
   "execution_count": null,
   "id": "bfb515ec-5f40-4164-a1db-622c0822b3b1",
   "metadata": {},
   "outputs": [],
   "source": [
    "theta_pca = rms_angle_error(n_pca, n)\n",
    "_, ax_pca = show_point_cloud(xyz, n_pca, elev=ax.elev, azim=ax.azim)\n",
    "ax_pca.set_title(f'PCA\\nRMS normal angle error = {theta_pca:.2f} °');"
   ]
  },
  {
   "cell_type": "markdown",
   "id": "214b8a73-7be3-4509-a629-492b11a2719c",
   "metadata": {},
   "source": [
    "## Implicit B-Spline"
   ]
  },
  {
   "cell_type": "code",
   "execution_count": null,
   "id": "c1184b31-37b1-4942-b595-826329cbb9de",
   "metadata": {},
   "outputs": [],
   "source": [
    "def estimate_normals_spline(xyz,\n",
    "                            k=30,\n",
    "                            deg=3,\n",
    "                            s=None,\n",
    "                            unit=True,\n",
    "                            kernel=None, \n",
    "                            **kwargs):\n",
    "    # create a kd-tree for quick nearest-neighbor lookup\n",
    "    tree = spatial.KDTree(xyz)\n",
    "    n = np.empty_like(xyz)\n",
    "    for i, p in enumerate(xyz):\n",
    "        _, idx = tree.query([p], k=k, eps=0.1, workers=-1)\n",
    "        nbhd = xyz[idx.flatten()]\n",
    "        \n",
    "        # change the basis of the local neighborhood\n",
    "        X = nbhd.copy()\n",
    "        X = X - X.mean(axis=0)\n",
    "        C = (X.T @ X) / (nbhd.shape[0] - 1)\n",
    "        U, _, _ = np.linalg.svd(C)\n",
    "        Xt = X @ U\n",
    "        \n",
    "        # compute weights given specific distance function\n",
    "        if kernel:\n",
    "            w = weight(p, nbhd, kernel, **kwargs)\n",
    "        else:\n",
    "            w = np.ones((nbhd.shape[0], ))\n",
    "            \n",
    "        # create a smooth B-Spline representation of the \"height\" function\n",
    "        h = interpolate.SmoothBivariateSpline(*Xt.T, w=w, kx=deg, ky=deg, s=s)\n",
    "        \n",
    "        # compute normals as partial derivatives of the \"height\" function\n",
    "        ni = np.array([-h(*Xt[0, :2], dx=1).item(),\n",
    "                       -h(*Xt[0, :2], dy=1).item(),\n",
    "                       1])\n",
    "        \n",
    "        # convert normal coordinates into the original coordinate frame\n",
    "        ni = U @ ni\n",
    "        \n",
    "        # normalize normals by considering the magnitude of each\n",
    "        if unit:\n",
    "            ni = ni / np.linalg.norm(ni, 2)\n",
    "        n[i, :] = ni\n",
    "    return n"
   ]
  },
  {
   "cell_type": "code",
   "execution_count": null,
   "id": "77ba506a-7287-4ca8-9924-3f610e04282f",
   "metadata": {},
   "outputs": [],
   "source": [
    "n_spline = estimate_normals_spline(xyz, k=30, kernel='rbf')\n",
    "n_spline = orient_normals(xyz, n_spline, k=30)"
   ]
  },
  {
   "cell_type": "code",
   "execution_count": null,
   "id": "4a902c76-07a7-4a9f-b77b-325da4b7af39",
   "metadata": {},
   "outputs": [],
   "source": [
    "theta_spline = rms_angle_error(n_spline, n)\n",
    "_, ax_spline = show_point_cloud(xyz, n_spline, elev=ax.elev, azim=ax.azim)\n",
    "ax_spline.set_title(f'B-Spline\\nRMS normal angle error = {theta_spline:.2f} °');"
   ]
  },
  {
   "cell_type": "markdown",
   "id": "2d1e918c-61d0-4b6d-9cc3-25c4b5c3ae91",
   "metadata": {},
   "source": [
    "## 2D Polyfit"
   ]
  },
  {
   "cell_type": "code",
   "execution_count": null,
   "id": "05626631-2053-4135-be2e-a207c2806ec2",
   "metadata": {},
   "outputs": [],
   "source": [
    "def estimate_normals_poly(xyz,\n",
    "                          k=30,\n",
    "                          deg=1,\n",
    "                          unit=True,\n",
    "                          kernel=None,\n",
    "                          **kwargs):\n",
    "    from src.utils import polyfit2d\n",
    "    # create a kd-tree for quick nearest-neighbor lookup\n",
    "    n = np.empty_like(xyz)\n",
    "    tree = spatial.KDTree(xyz)\n",
    "    for i, p in enumerate(xyz):\n",
    "        _, idx = tree.query([p], k=k, eps=0.1, workers=-1)\n",
    "        nbhd = xyz[idx.flatten()]\n",
    "        \n",
    "        # change the basis of the local neighborhood\n",
    "        X = nbhd.copy()\n",
    "        X = X - X.mean(axis=0)\n",
    "        C = (X.T @ X) / (nbhd.shape[0] - 1)\n",
    "        U, _, _ = np.linalg.svd(C)\n",
    "        X_t = X @ U\n",
    "        \n",
    "        # compute weights given specific distance function\n",
    "        if kernel:\n",
    "            w = weight(p, nbhd, kernel, **kwargs)\n",
    "        else:\n",
    "            w = np.ones((nbhd.shape[0], ))\n",
    "            \n",
    "        # fit parametric surface by usign a (weighted) 2-D polynomial\n",
    "        X_t_w = X_t * w[:, np.newaxis]\n",
    "        c = polyfit2d(*X_t_w.T, deg=deg)\n",
    "        \n",
    "        # compute normals as partial derivatives of the \"height\" function\n",
    "        cu = np.polynomial.polynomial.polyder(c, axis=0)\n",
    "        cv = np.polynomial.polynomial.polyder(c, axis=1)\n",
    "        ni = np.array([-np.polynomial.polynomial.polyval2d(*X_t_w[0, :2], cu),\n",
    "                       -np.polynomial.polynomial.polyval2d(*X_t_w[0, :2], cv),\n",
    "                       1])\n",
    "        \n",
    "        # convert normal coordinates into the original coordinate frame\n",
    "        ni = U @ ni\n",
    "        \n",
    "        # normalize normals by considering the magnitude of each\n",
    "        if unit:\n",
    "            ni = ni / np.linalg.norm(ni, 2)\n",
    "        n[i, :] = ni\n",
    "    return n"
   ]
  },
  {
   "cell_type": "code",
   "execution_count": null,
   "id": "04c4200c-6e12-4b00-a51e-23ff96a5187c",
   "metadata": {},
   "outputs": [],
   "source": [
    "n_poly = estimate_normals_poly(xyz, deg=2)\n",
    "n_poly = orient_normals(xyz, n_poly, k=30)"
   ]
  },
  {
   "cell_type": "code",
   "execution_count": null,
   "id": "c6d701d1-153f-4d22-8c05-b4a428f786ce",
   "metadata": {},
   "outputs": [],
   "source": [
    "theta_poly = rms_angle_error(n_poly, n)\n",
    "_, ax_poly = show_point_cloud(xyz, n_poly, elev=ax.elev, azim=ax.azim)\n",
    "ax_poly.set_title(f'WLS\\nRMS normal angle error = {theta_poly:.2f} °');"
   ]
  },
  {
   "cell_type": "code",
   "execution_count": null,
   "id": "bf304cf3-e995-4cef-92e1-ceeeb7618d01",
   "metadata": {},
   "outputs": [],
   "source": []
  }
 ],
 "metadata": {
  "kernelspec": {
   "display_name": "Python 3 (ipykernel)",
   "language": "python",
   "name": "python3"
  },
  "language_info": {
   "codemirror_mode": {
    "name": "ipython",
    "version": 3
   },
   "file_extension": ".py",
   "mimetype": "text/x-python",
   "name": "python",
   "nbconvert_exporter": "python",
   "pygments_lexer": "ipython3",
   "version": "3.9.16"
  }
 },
 "nbformat": 4,
 "nbformat_minor": 5
}
