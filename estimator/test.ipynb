{
 "cells": [
  {
   "cell_type": "code",
   "execution_count": 1,
   "id": "bf92d03a-a811-4e5b-8531-bffeaa9cdbb4",
   "metadata": {},
   "outputs": [],
   "source": [
    "import ast\n",
    "import os\n",
    "os.chdir(os.pardir)\n",
    "\n",
    "import numpy as np\n",
    "import pandas as pd\n",
    "from tqdm.auto import tqdm\n",
    "\n",
    "from src import load_point_cloud\n",
    "from src import rms_angle_error\n",
    "\n",
    "from estimator import NormalEstimator"
   ]
  },
  {
   "cell_type": "code",
   "execution_count": 2,
   "id": "6762859a-79f6-496d-bba3-95b3b6af82b1",
   "metadata": {},
   "outputs": [],
   "source": [
    "data_path = 'data'"
   ]
  },
  {
   "cell_type": "code",
   "execution_count": 3,
   "id": "98a80498-01ef-413c-ab2d-5497b95fb44b",
   "metadata": {},
   "outputs": [],
   "source": [
    "with open(os.path.join(data_path, 'testset_no_noise.txt')) as f:\n",
    "    testset_no_noise = [line.strip() for line in f]\n",
    "with open(os.path.join(data_path, 'testset_low_noise.txt')) as f:\n",
    "    testset_low_noise = [line.strip() for line in f]\n",
    "with open(os.path.join(data_path, 'testset_med_noise.txt')) as f:\n",
    "    testset_med_noise = [line.strip() for line in f]\n",
    "with open(os.path.join(data_path, 'testset_high_noise.txt')) as f:\n",
    "    testset_high_noise = [line.strip() for line in f]\n",
    "with open(os.path.join(data_path, 'testset_vardensity_gradient.txt')) as f:\n",
    "    testset_vardensity_gradient = [line.strip() for line in f]\n",
    "with open(os.path.join(data_path, 'testset_vardensity_striped.txt')) as f:\n",
    "    testset_vardensity_striped = [line.strip() for line in f]"
   ]
  },
  {
   "cell_type": "code",
   "execution_count": 4,
   "id": "6ef8e2dc-2fab-4a01-a4ec-425330ee9ef0",
   "metadata": {},
   "outputs": [],
   "source": [
    "class_dispatcher = {'no_noise': testset_no_noise,\n",
    "                    'low_noise': testset_low_noise,\n",
    "                    'med_noise': testset_med_noise,\n",
    "                    'high_noise': testset_high_noise,\n",
    "                    'gradient': testset_vardensity_gradient,\n",
    "                    'striped': testset_vardensity_striped}"
   ]
  },
  {
   "cell_type": "code",
   "execution_count": 5,
   "id": "95fe5cb4-677f-4b5c-95fe-6999bcd4020e",
   "metadata": {},
   "outputs": [
    {
     "data": {
      "text/html": [
       "<div>\n",
       "<style scoped>\n",
       "    .dataframe tbody tr th:only-of-type {\n",
       "        vertical-align: middle;\n",
       "    }\n",
       "\n",
       "    .dataframe tbody tr th {\n",
       "        vertical-align: top;\n",
       "    }\n",
       "\n",
       "    .dataframe thead th {\n",
       "        text-align: right;\n",
       "    }\n",
       "</style>\n",
       "<table border=\"1\" class=\"dataframe\">\n",
       "  <thead>\n",
       "    <tr style=\"text-align: right;\">\n",
       "      <th></th>\n",
       "      <th>class</th>\n",
       "      <th>params</th>\n",
       "      <th>mean_test_score</th>\n",
       "    </tr>\n",
       "  </thead>\n",
       "  <tbody>\n",
       "    <tr>\n",
       "      <th>138</th>\n",
       "      <td>gradient</td>\n",
       "      <td>{'gamma': 1, 'k': 30, 'kernel': 'rbf', 's': 0}</td>\n",
       "      <td>-6.450299</td>\n",
       "    </tr>\n",
       "    <tr>\n",
       "      <th>103</th>\n",
       "      <td>high_noise</td>\n",
       "      <td>{'gamma': 1, 'k': 100, 'kernel': 'inverse_mult...</td>\n",
       "      <td>-34.935803</td>\n",
       "    </tr>\n",
       "    <tr>\n",
       "      <th>104</th>\n",
       "      <td>low_noise</td>\n",
       "      <td>{'gamma': 1, 'k': 100, 'kernel': 'inverse_mult...</td>\n",
       "      <td>-11.715842</td>\n",
       "    </tr>\n",
       "    <tr>\n",
       "      <th>255</th>\n",
       "      <td>med_noise</td>\n",
       "      <td>{'gamma': 3, 'k': 100, 'kernel': 'rbf', 's': N...</td>\n",
       "      <td>-25.449993</td>\n",
       "    </tr>\n",
       "    <tr>\n",
       "      <th>130</th>\n",
       "      <td>no_noise</td>\n",
       "      <td>{'gamma': 1, 'k': 30, 'kernel': 'gaussian', 's...</td>\n",
       "      <td>-6.485461</td>\n",
       "    </tr>\n",
       "    <tr>\n",
       "      <th>131</th>\n",
       "      <td>striped</td>\n",
       "      <td>{'gamma': 1, 'k': 30, 'kernel': 'gaussian', 's...</td>\n",
       "      <td>-6.414900</td>\n",
       "    </tr>\n",
       "  </tbody>\n",
       "</table>\n",
       "</div>"
      ],
      "text/plain": [
       "          class                                             params  \\\n",
       "138    gradient     {'gamma': 1, 'k': 30, 'kernel': 'rbf', 's': 0}   \n",
       "103  high_noise  {'gamma': 1, 'k': 100, 'kernel': 'inverse_mult...   \n",
       "104   low_noise  {'gamma': 1, 'k': 100, 'kernel': 'inverse_mult...   \n",
       "255   med_noise  {'gamma': 3, 'k': 100, 'kernel': 'rbf', 's': N...   \n",
       "130    no_noise  {'gamma': 1, 'k': 30, 'kernel': 'gaussian', 's...   \n",
       "131     striped  {'gamma': 1, 'k': 30, 'kernel': 'gaussian', 's...   \n",
       "\n",
       "     mean_test_score  \n",
       "138        -6.450299  \n",
       "103       -34.935803  \n",
       "104       -11.715842  \n",
       "255       -25.449993  \n",
       "130        -6.485461  \n",
       "131        -6.414900  "
      ]
     },
     "execution_count": 5,
     "metadata": {},
     "output_type": "execute_result"
    }
   ],
   "source": [
    "df_param_opt = pd.read_csv(os.path.join('estimator', 'param_opt.csv'),\n",
    "                           index_col=0)\n",
    "df_param_opt['params'] = df_param_opt['params'].apply(\n",
    "    lambda row: ast.literal_eval(row)\n",
    ")\n",
    "df_param_opt"
   ]
  },
  {
   "cell_type": "code",
   "execution_count": 6,
   "id": "737df3b1-0b84-406b-a169-917df4b99fce",
   "metadata": {},
   "outputs": [],
   "source": [
    "def run_test(cls):\n",
    "    res = {'class': [],\n",
    "           'dataset': [],\n",
    "           'params': [],\n",
    "           'score': []}\n",
    "    for dataset in tqdm(class_dispatcher[cls]):\n",
    "        xyz, n = load_point_cloud(dataset)\n",
    "        params = df_param_opt.loc[\n",
    "            df_param_opt['class'] == cls, 'params'\n",
    "        ].item()\n",
    "        estimator = NormalEstimator(**params).fit(xyz)\n",
    "        n_estim = estimator.predict(xyz)\n",
    "        angle_err = rms_angle_error(n_estim, n, orient=False)\n",
    "        res['class'].append(cls)\n",
    "        res['dataset'].append(dataset)\n",
    "        res['params'].append(str(params))\n",
    "        res['score'].append(angle_err)\n",
    "    return res"
   ]
  },
  {
   "cell_type": "code",
   "execution_count": 7,
   "id": "593d9d9f-9322-45a9-9a85-bc1add8ea4ad",
   "metadata": {},
   "outputs": [
    {
     "data": {
      "application/vnd.jupyter.widget-view+json": {
       "model_id": "97ce9dede41d4ce3974df8307c576c00",
       "version_major": 2,
       "version_minor": 0
      },
      "text/plain": [
       "  0%|          | 0/19 [00:00<?, ?it/s]"
      ]
     },
     "metadata": {},
     "output_type": "display_data"
    }
   ],
   "source": [
    "res_no_noise = run_test('no_noise')"
   ]
  },
  {
   "cell_type": "code",
   "execution_count": 8,
   "id": "99d98782-7df9-4394-b73d-e14e434b9bc2",
   "metadata": {},
   "outputs": [
    {
     "data": {
      "application/vnd.jupyter.widget-view+json": {
       "model_id": "2c174e72f0de4972aa364d1434fbad84",
       "version_major": 2,
       "version_minor": 0
      },
      "text/plain": [
       "  0%|          | 0/19 [00:00<?, ?it/s]"
      ]
     },
     "metadata": {},
     "output_type": "display_data"
    }
   ],
   "source": [
    "res_med_noise = run_test('med_noise')"
   ]
  },
  {
   "cell_type": "code",
   "execution_count": 10,
   "id": "694ae424-a660-42c0-8e7d-be50d4bceda9",
   "metadata": {},
   "outputs": [
    {
     "data": {
      "application/vnd.jupyter.widget-view+json": {
       "model_id": "a9147c7f5bb74fc3b591dcb489d3a45f",
       "version_major": 2,
       "version_minor": 0
      },
      "text/plain": [
       "  0%|          | 0/19 [00:00<?, ?it/s]"
      ]
     },
     "metadata": {},
     "output_type": "display_data"
    }
   ],
   "source": [
    "res_low_noise = run_test('low_noise')"
   ]
  },
  {
   "cell_type": "code",
   "execution_count": 11,
   "id": "3bd58591-a86e-49a6-8f5f-177e266f5b83",
   "metadata": {},
   "outputs": [
    {
     "data": {
      "application/vnd.jupyter.widget-view+json": {
       "model_id": "bfa8766e8c044031b2418a49da5b3b09",
       "version_major": 2,
       "version_minor": 0
      },
      "text/plain": [
       "  0%|          | 0/19 [00:00<?, ?it/s]"
      ]
     },
     "metadata": {},
     "output_type": "display_data"
    }
   ],
   "source": [
    "res_high_noise = run_test('high_noise')"
   ]
  },
  {
   "cell_type": "code",
   "execution_count": 12,
   "id": "31cd0b1b-b586-48a6-b3c3-9f8252e5641f",
   "metadata": {},
   "outputs": [
    {
     "data": {
      "application/vnd.jupyter.widget-view+json": {
       "model_id": "7725ea121c6f4d318f747fc438ea01f1",
       "version_major": 2,
       "version_minor": 0
      },
      "text/plain": [
       "  0%|          | 0/16 [00:00<?, ?it/s]"
      ]
     },
     "metadata": {},
     "output_type": "display_data"
    },
    {
     "name": "stderr",
     "output_type": "stream",
     "text": [
      "/home/alk/miniconda3/envs/3d/lib/python3.9/site-packages/scipy/interpolate/_fitpack2.py:1419: UserWarning: \n",
      "The required storage space exceeds the available storage space: nxest\n",
      "or nyest too small, or s too small.\n",
      "The weighted least-squares spline corresponds to the current set of\n",
      "knots.\n",
      "  warnings.warn(message)\n",
      "/home/alk/miniconda3/envs/3d/lib/python3.9/site-packages/scipy/interpolate/_fitpack2.py:1419: UserWarning: \n",
      "The required storage space exceeds the available storage space: nxest\n",
      "or nyest too small, or s too small.\n",
      "The weighted least-squares spline corresponds to the current set of\n",
      "knots.\n",
      "  warnings.warn(message)\n",
      "/home/alk/miniconda3/envs/3d/lib/python3.9/site-packages/scipy/interpolate/_fitpack2.py:1419: UserWarning: \n",
      "The required storage space exceeds the available storage space: nxest\n",
      "or nyest too small, or s too small.\n",
      "The weighted least-squares spline corresponds to the current set of\n",
      "knots.\n",
      "  warnings.warn(message)\n",
      "/home/alk/miniconda3/envs/3d/lib/python3.9/site-packages/scipy/interpolate/_fitpack2.py:1419: UserWarning: \n",
      "The required storage space exceeds the available storage space: nxest\n",
      "or nyest too small, or s too small.\n",
      "The weighted least-squares spline corresponds to the current set of\n",
      "knots.\n",
      "  warnings.warn(message)\n",
      "/home/alk/miniconda3/envs/3d/lib/python3.9/site-packages/scipy/interpolate/_fitpack2.py:1419: UserWarning: \n",
      "The required storage space exceeds the available storage space: nxest\n",
      "or nyest too small, or s too small.\n",
      "The weighted least-squares spline corresponds to the current set of\n",
      "knots.\n",
      "  warnings.warn(message)\n",
      "/home/alk/miniconda3/envs/3d/lib/python3.9/site-packages/scipy/interpolate/_fitpack2.py:1419: UserWarning: \n",
      "The required storage space exceeds the available storage space: nxest\n",
      "or nyest too small, or s too small.\n",
      "The weighted least-squares spline corresponds to the current set of\n",
      "knots.\n",
      "  warnings.warn(message)\n",
      "/home/alk/miniconda3/envs/3d/lib/python3.9/site-packages/scipy/interpolate/_fitpack2.py:1419: UserWarning: \n",
      "The required storage space exceeds the available storage space: nxest\n",
      "or nyest too small, or s too small.\n",
      "The weighted least-squares spline corresponds to the current set of\n",
      "knots.\n",
      "  warnings.warn(message)\n",
      "/home/alk/miniconda3/envs/3d/lib/python3.9/site-packages/scipy/interpolate/_fitpack2.py:1419: UserWarning: \n",
      "The required storage space exceeds the available storage space: nxest\n",
      "or nyest too small, or s too small.\n",
      "The weighted least-squares spline corresponds to the current set of\n",
      "knots.\n",
      "  warnings.warn(message)\n",
      "/home/alk/miniconda3/envs/3d/lib/python3.9/site-packages/scipy/interpolate/_fitpack2.py:1419: UserWarning: \n",
      "The required storage space exceeds the available storage space: nxest\n",
      "or nyest too small, or s too small.\n",
      "The weighted least-squares spline corresponds to the current set of\n",
      "knots.\n",
      "  warnings.warn(message)\n",
      "/home/alk/miniconda3/envs/3d/lib/python3.9/site-packages/scipy/interpolate/_fitpack2.py:1419: UserWarning: \n",
      "The required storage space exceeds the available storage space: nxest\n",
      "or nyest too small, or s too small.\n",
      "The weighted least-squares spline corresponds to the current set of\n",
      "knots.\n",
      "  warnings.warn(message)\n",
      "/home/alk/miniconda3/envs/3d/lib/python3.9/site-packages/scipy/interpolate/_fitpack2.py:1419: UserWarning: \n",
      "The required storage space exceeds the available storage space: nxest\n",
      "or nyest too small, or s too small.\n",
      "The weighted least-squares spline corresponds to the current set of\n",
      "knots.\n",
      "  warnings.warn(message)\n",
      "/home/alk/miniconda3/envs/3d/lib/python3.9/site-packages/scipy/interpolate/_fitpack2.py:1419: UserWarning: \n",
      "The required storage space exceeds the available storage space: nxest\n",
      "or nyest too small, or s too small.\n",
      "The weighted least-squares spline corresponds to the current set of\n",
      "knots.\n",
      "  warnings.warn(message)\n",
      "/home/alk/miniconda3/envs/3d/lib/python3.9/site-packages/scipy/interpolate/_fitpack2.py:1419: UserWarning: \n",
      "The required storage space exceeds the available storage space: nxest\n",
      "or nyest too small, or s too small.\n",
      "The weighted least-squares spline corresponds to the current set of\n",
      "knots.\n",
      "  warnings.warn(message)\n",
      "/home/alk/miniconda3/envs/3d/lib/python3.9/site-packages/scipy/interpolate/_fitpack2.py:1419: UserWarning: \n",
      "The required storage space exceeds the available storage space: nxest\n",
      "or nyest too small, or s too small.\n",
      "The weighted least-squares spline corresponds to the current set of\n",
      "knots.\n",
      "  warnings.warn(message)\n",
      "/home/alk/miniconda3/envs/3d/lib/python3.9/site-packages/scipy/interpolate/_fitpack2.py:1419: UserWarning: \n",
      "The required storage space exceeds the available storage space: nxest\n",
      "or nyest too small, or s too small.\n",
      "The weighted least-squares spline corresponds to the current set of\n",
      "knots.\n",
      "  warnings.warn(message)\n",
      "/home/alk/miniconda3/envs/3d/lib/python3.9/site-packages/scipy/interpolate/_fitpack2.py:1419: UserWarning: \n",
      "The required storage space exceeds the available storage space: nxest\n",
      "or nyest too small, or s too small.\n",
      "The weighted least-squares spline corresponds to the current set of\n",
      "knots.\n",
      "  warnings.warn(message)\n"
     ]
    }
   ],
   "source": [
    "res_gradient = run_test('gradient')"
   ]
  },
  {
   "cell_type": "code",
   "execution_count": 13,
   "id": "3ac61159-bbd4-49e4-a938-8f31011ed408",
   "metadata": {},
   "outputs": [
    {
     "data": {
      "application/vnd.jupyter.widget-view+json": {
       "model_id": "f17fc0a770e34228a943b9688ebdebe3",
       "version_major": 2,
       "version_minor": 0
      },
      "text/plain": [
       "  0%|          | 0/16 [00:00<?, ?it/s]"
      ]
     },
     "metadata": {},
     "output_type": "display_data"
    }
   ],
   "source": [
    "res_striped = run_test('striped')"
   ]
  },
  {
   "cell_type": "code",
   "execution_count": 16,
   "id": "ee854cec-497c-4ed9-b3ed-ce98792f3567",
   "metadata": {},
   "outputs": [
    {
     "data": {
      "text/html": [
       "<div>\n",
       "<style scoped>\n",
       "    .dataframe tbody tr th:only-of-type {\n",
       "        vertical-align: middle;\n",
       "    }\n",
       "\n",
       "    .dataframe tbody tr th {\n",
       "        vertical-align: top;\n",
       "    }\n",
       "\n",
       "    .dataframe thead th {\n",
       "        text-align: right;\n",
       "    }\n",
       "</style>\n",
       "<table border=\"1\" class=\"dataframe\">\n",
       "  <thead>\n",
       "    <tr style=\"text-align: right;\">\n",
       "      <th></th>\n",
       "      <th>class</th>\n",
       "      <th>dataset</th>\n",
       "      <th>params</th>\n",
       "      <th>score</th>\n",
       "    </tr>\n",
       "  </thead>\n",
       "  <tbody>\n",
       "    <tr>\n",
       "      <th>0</th>\n",
       "      <td>no_noise</td>\n",
       "      <td>galera100k</td>\n",
       "      <td>{'gamma': 1, 'k': 30, 'kernel': 'gaussian', 's...</td>\n",
       "      <td>8.258374</td>\n",
       "    </tr>\n",
       "    <tr>\n",
       "      <th>1</th>\n",
       "      <td>no_noise</td>\n",
       "      <td>icosahedron100k</td>\n",
       "      <td>{'gamma': 1, 'k': 30, 'kernel': 'gaussian', 's...</td>\n",
       "      <td>3.184624</td>\n",
       "    </tr>\n",
       "    <tr>\n",
       "      <th>2</th>\n",
       "      <td>no_noise</td>\n",
       "      <td>netsuke100k</td>\n",
       "      <td>{'gamma': 1, 'k': 30, 'kernel': 'gaussian', 's...</td>\n",
       "      <td>6.518083</td>\n",
       "    </tr>\n",
       "    <tr>\n",
       "      <th>3</th>\n",
       "      <td>no_noise</td>\n",
       "      <td>Cup34100k</td>\n",
       "      <td>{'gamma': 1, 'k': 30, 'kernel': 'gaussian', 's...</td>\n",
       "      <td>7.148996</td>\n",
       "    </tr>\n",
       "    <tr>\n",
       "      <th>4</th>\n",
       "      <td>no_noise</td>\n",
       "      <td>sphere100k</td>\n",
       "      <td>{'gamma': 1, 'k': 30, 'kernel': 'gaussian', 's...</td>\n",
       "      <td>0.611236</td>\n",
       "    </tr>\n",
       "    <tr>\n",
       "      <th>...</th>\n",
       "      <td>...</td>\n",
       "      <td>...</td>\n",
       "      <td>...</td>\n",
       "      <td>...</td>\n",
       "    </tr>\n",
       "    <tr>\n",
       "      <th>11</th>\n",
       "      <td>striped</td>\n",
       "      <td>pipe100k_ddist_minmax_layers</td>\n",
       "      <td>{'gamma': 1, 'k': 30, 'kernel': 'gaussian', 's...</td>\n",
       "      <td>4.741156</td>\n",
       "    </tr>\n",
       "    <tr>\n",
       "      <th>12</th>\n",
       "      <td>striped</td>\n",
       "      <td>pipe_curve100k_ddist_minmax_layers</td>\n",
       "      <td>{'gamma': 1, 'k': 30, 'kernel': 'gaussian', 's...</td>\n",
       "      <td>4.650801</td>\n",
       "    </tr>\n",
       "    <tr>\n",
       "      <th>13</th>\n",
       "      <td>striped</td>\n",
       "      <td>column100k_ddist_minmax_layers</td>\n",
       "      <td>{'gamma': 1, 'k': 30, 'kernel': 'gaussian', 's...</td>\n",
       "      <td>22.510935</td>\n",
       "    </tr>\n",
       "    <tr>\n",
       "      <th>14</th>\n",
       "      <td>striped</td>\n",
       "      <td>column_head100k_ddist_minmax_layers</td>\n",
       "      <td>{'gamma': 1, 'k': 30, 'kernel': 'gaussian', 's...</td>\n",
       "      <td>22.522018</td>\n",
       "    </tr>\n",
       "    <tr>\n",
       "      <th>15</th>\n",
       "      <td>striped</td>\n",
       "      <td>Boxy_smooth100k_ddist_minmax_layers</td>\n",
       "      <td>{'gamma': 1, 'k': 30, 'kernel': 'gaussian', 's...</td>\n",
       "      <td>2.547697</td>\n",
       "    </tr>\n",
       "  </tbody>\n",
       "</table>\n",
       "<p>108 rows × 4 columns</p>\n",
       "</div>"
      ],
      "text/plain": [
       "       class                              dataset  \\\n",
       "0   no_noise                           galera100k   \n",
       "1   no_noise                      icosahedron100k   \n",
       "2   no_noise                          netsuke100k   \n",
       "3   no_noise                            Cup34100k   \n",
       "4   no_noise                           sphere100k   \n",
       "..       ...                                  ...   \n",
       "11   striped         pipe100k_ddist_minmax_layers   \n",
       "12   striped   pipe_curve100k_ddist_minmax_layers   \n",
       "13   striped       column100k_ddist_minmax_layers   \n",
       "14   striped  column_head100k_ddist_minmax_layers   \n",
       "15   striped  Boxy_smooth100k_ddist_minmax_layers   \n",
       "\n",
       "                                               params      score  \n",
       "0   {'gamma': 1, 'k': 30, 'kernel': 'gaussian', 's...   8.258374  \n",
       "1   {'gamma': 1, 'k': 30, 'kernel': 'gaussian', 's...   3.184624  \n",
       "2   {'gamma': 1, 'k': 30, 'kernel': 'gaussian', 's...   6.518083  \n",
       "3   {'gamma': 1, 'k': 30, 'kernel': 'gaussian', 's...   7.148996  \n",
       "4   {'gamma': 1, 'k': 30, 'kernel': 'gaussian', 's...   0.611236  \n",
       "..                                                ...        ...  \n",
       "11  {'gamma': 1, 'k': 30, 'kernel': 'gaussian', 's...   4.741156  \n",
       "12  {'gamma': 1, 'k': 30, 'kernel': 'gaussian', 's...   4.650801  \n",
       "13  {'gamma': 1, 'k': 30, 'kernel': 'gaussian', 's...  22.510935  \n",
       "14  {'gamma': 1, 'k': 30, 'kernel': 'gaussian', 's...  22.522018  \n",
       "15  {'gamma': 1, 'k': 30, 'kernel': 'gaussian', 's...   2.547697  \n",
       "\n",
       "[108 rows x 4 columns]"
      ]
     },
     "execution_count": 16,
     "metadata": {},
     "output_type": "execute_result"
    }
   ],
   "source": [
    "df_no_noise = pd.DataFrame(res_no_noise)\n",
    "df_low_noise = pd.DataFrame(res_low_noise)\n",
    "df_med_noise = pd.DataFrame(res_med_noise)\n",
    "df_high_noise = pd.DataFrame(res_high_noise)\n",
    "df_gradient = pd.DataFrame(res_gradient)\n",
    "df_striped = pd.DataFrame(res_striped)\n",
    "df_test_res = pd.concat((df_no_noise,\n",
    "                         df_low_noise,\n",
    "                         df_med_noise,\n",
    "                         df_high_noise,\n",
    "                         df_gradient,\n",
    "                         df_striped))\n",
    "df_test_res"
   ]
  },
  {
   "cell_type": "code",
   "execution_count": 19,
   "id": "c3e41e89-4298-4cc3-9c5d-70cbfa38b3d1",
   "metadata": {},
   "outputs": [
    {
     "data": {
      "text/html": [
       "<div>\n",
       "<style scoped>\n",
       "    .dataframe tbody tr th:only-of-type {\n",
       "        vertical-align: middle;\n",
       "    }\n",
       "\n",
       "    .dataframe tbody tr th {\n",
       "        vertical-align: top;\n",
       "    }\n",
       "\n",
       "    .dataframe thead th {\n",
       "        text-align: right;\n",
       "    }\n",
       "</style>\n",
       "<table border=\"1\" class=\"dataframe\">\n",
       "  <thead>\n",
       "    <tr style=\"text-align: right;\">\n",
       "      <th></th>\n",
       "      <th>score</th>\n",
       "    </tr>\n",
       "    <tr>\n",
       "      <th>class</th>\n",
       "      <th></th>\n",
       "    </tr>\n",
       "  </thead>\n",
       "  <tbody>\n",
       "    <tr>\n",
       "      <th>gradient</th>\n",
       "      <td>7.816128</td>\n",
       "    </tr>\n",
       "    <tr>\n",
       "      <th>high_noise</th>\n",
       "      <td>27.745462</td>\n",
       "    </tr>\n",
       "    <tr>\n",
       "      <th>low_noise</th>\n",
       "      <td>11.363698</td>\n",
       "    </tr>\n",
       "    <tr>\n",
       "      <th>med_noise</th>\n",
       "      <td>19.712657</td>\n",
       "    </tr>\n",
       "    <tr>\n",
       "      <th>no_noise</th>\n",
       "      <td>7.041440</td>\n",
       "    </tr>\n",
       "    <tr>\n",
       "      <th>striped</th>\n",
       "      <td>8.004623</td>\n",
       "    </tr>\n",
       "  </tbody>\n",
       "</table>\n",
       "</div>"
      ],
      "text/plain": [
       "                score\n",
       "class                \n",
       "gradient     7.816128\n",
       "high_noise  27.745462\n",
       "low_noise   11.363698\n",
       "med_noise   19.712657\n",
       "no_noise     7.041440\n",
       "striped      8.004623"
      ]
     },
     "execution_count": 19,
     "metadata": {},
     "output_type": "execute_result"
    }
   ],
   "source": [
    "df_test_res_grouped = df_test_res[['class', 'score']].groupby('class').mean()\n",
    "df_test_res_grouped"
   ]
  },
  {
   "cell_type": "code",
   "execution_count": 21,
   "id": "6d769b1b-4b62-4bb8-ad2f-35c4475ba958",
   "metadata": {},
   "outputs": [
    {
     "data": {
      "text/plain": [
       "13.614001050142008"
      ]
     },
     "execution_count": 21,
     "metadata": {},
     "output_type": "execute_result"
    }
   ],
   "source": [
    "df_test_res_grouped.mean().item()"
   ]
  },
  {
   "cell_type": "code",
   "execution_count": 22,
   "id": "74319287-2352-4431-9451-791fcfb22a74",
   "metadata": {},
   "outputs": [],
   "source": [
    "save = False\n",
    "fname = os.path.join('estimator', 'test_res.csv')\n",
    "\n",
    "if save:\n",
    "    df_test_res.to_csv(fname)"
   ]
  },
  {
   "cell_type": "code",
   "execution_count": null,
   "id": "52ed7ebc-a912-45bd-8286-986d8c4537b0",
   "metadata": {},
   "outputs": [],
   "source": []
  }
 ],
 "metadata": {
  "kernelspec": {
   "display_name": "Python 3 (ipykernel)",
   "language": "python",
   "name": "python3"
  },
  "language_info": {
   "codemirror_mode": {
    "name": "ipython",
    "version": 3
   },
   "file_extension": ".py",
   "mimetype": "text/x-python",
   "name": "python",
   "nbconvert_exporter": "python",
   "pygments_lexer": "ipython3",
   "version": "3.9.18"
  }
 },
 "nbformat": 4,
 "nbformat_minor": 5
}
