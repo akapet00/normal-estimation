{
 "cells": [
  {
   "cell_type": "code",
   "execution_count": null,
   "id": "bf92d03a-a811-4e5b-8531-bffeaa9cdbb4",
   "metadata": {},
   "outputs": [],
   "source": [
    "import ast\n",
    "import os\n",
    "os.chdir(os.pardir)\n",
    "\n",
    "import numpy as np\n",
    "import pandas as pd\n",
    "from tqdm.auto import tqdm\n",
    "\n",
    "from src import load_point_cloud\n",
    "from src.metrics import _angle_error\n",
    "\n",
    "from estimator import NormalEstimator"
   ]
  },
  {
   "cell_type": "code",
   "execution_count": null,
   "id": "6762859a-79f6-496d-bba3-95b3b6af82b1",
   "metadata": {},
   "outputs": [],
   "source": [
    "data_path = 'data'"
   ]
  },
  {
   "cell_type": "code",
   "execution_count": null,
   "id": "98a80498-01ef-413c-ab2d-5497b95fb44b",
   "metadata": {},
   "outputs": [],
   "source": [
    "with open(os.path.join(data_path, 'testset_no_noise.txt')) as f:\n",
    "    testset_no_noise = [line.strip() for line in f]\n",
    "with open(os.path.join(data_path, 'testset_low_noise.txt')) as f:\n",
    "    testset_low_noise = [line.strip() for line in f]\n",
    "with open(os.path.join(data_path, 'testset_med_noise.txt')) as f:\n",
    "    testset_med_noise = [line.strip() for line in f]\n",
    "with open(os.path.join(data_path, 'testset_high_noise.txt')) as f:\n",
    "    testset_high_noise = [line.strip() for line in f]\n",
    "with open(os.path.join(data_path, 'testset_vardensity_gradient.txt')) as f:\n",
    "    testset_vardensity_gradient = [line.strip() for line in f]\n",
    "with open(os.path.join(data_path, 'testset_vardensity_striped.txt')) as f:\n",
    "    testset_vardensity_striped = [line.strip() for line in f]"
   ]
  },
  {
   "cell_type": "code",
   "execution_count": null,
   "id": "6ef8e2dc-2fab-4a01-a4ec-425330ee9ef0",
   "metadata": {},
   "outputs": [],
   "source": [
    "class_dispatcher = {'no_noise': testset_no_noise,\n",
    "                    'low_noise': testset_low_noise,\n",
    "                    'med_noise': testset_med_noise,\n",
    "                    'high_noise': testset_high_noise,\n",
    "                    'gradient': testset_vardensity_gradient,\n",
    "                    'striped': testset_vardensity_striped}"
   ]
  },
  {
   "cell_type": "code",
   "execution_count": null,
   "id": "95fe5cb4-677f-4b5c-95fe-6999bcd4020e",
   "metadata": {},
   "outputs": [],
   "source": [
    "df_param_opt = pd.read_csv(os.path.join('estimator', 'param_opt.csv'),\n",
    "                           index_col=0)\n",
    "df_param_opt['params'] = df_param_opt['params'].apply(\n",
    "    lambda row: ast.literal_eval(row)\n",
    ")\n",
    "df_param_opt"
   ]
  },
  {
   "cell_type": "code",
   "execution_count": null,
   "id": "737df3b1-0b84-406b-a169-917df4b99fce",
   "metadata": {},
   "outputs": [],
   "source": [
    "def run_test(cls):\n",
    "    res = {'class': [],\n",
    "           'dataset': [],\n",
    "           'params': [],\n",
    "           'rmse': [],\n",
    "           'pgp': []}\n",
    "    for dataset in tqdm(class_dispatcher[cls]):\n",
    "        xyz, n = load_point_cloud(dataset)\n",
    "        params = df_param_opt.loc[\n",
    "            df_param_opt['class'] == cls, 'params'\n",
    "        ].item()\n",
    "        estimator = NormalEstimator(**params).fit(xyz)\n",
    "        n_estim = estimator.predict(xyz)\n",
    "        e = _angle_error(n_estim, n, orient=False)\n",
    "        rmse = np.sqrt(np.mean(e ** 2))\n",
    "        pgp = []\n",
    "        for alpha in alphas:\n",
    "            pgp.append(np.mean(e < alpha))\n",
    "        res['class'].append(cls)\n",
    "        res['dataset'].append(dataset)\n",
    "        res['params'].append(str(params))\n",
    "        res['rmse'].append(rmse)\n",
    "        res['pgp'].append(np.asarray(pgp))\n",
    "    return res"
   ]
  },
  {
   "cell_type": "code",
   "execution_count": null,
   "id": "4ffdd97d-d58d-422b-b64e-388f86b4f6dc",
   "metadata": {},
   "outputs": [],
   "source": [
    "alphas = [0, 5, 10, 15, 20, 25, 30]"
   ]
  },
  {
   "cell_type": "code",
   "execution_count": null,
   "id": "593d9d9f-9322-45a9-9a85-bc1add8ea4ad",
   "metadata": {},
   "outputs": [],
   "source": [
    "res_no_noise = run_test('no_noise')"
   ]
  },
  {
   "cell_type": "code",
   "execution_count": null,
   "id": "99d98782-7df9-4394-b73d-e14e434b9bc2",
   "metadata": {},
   "outputs": [],
   "source": [
    "res_med_noise = run_test('med_noise')"
   ]
  },
  {
   "cell_type": "code",
   "execution_count": null,
   "id": "694ae424-a660-42c0-8e7d-be50d4bceda9",
   "metadata": {},
   "outputs": [],
   "source": [
    "res_low_noise = run_test('low_noise')"
   ]
  },
  {
   "cell_type": "code",
   "execution_count": null,
   "id": "3bd58591-a86e-49a6-8f5f-177e266f5b83",
   "metadata": {},
   "outputs": [],
   "source": [
    "res_high_noise = run_test('high_noise')"
   ]
  },
  {
   "cell_type": "code",
   "execution_count": null,
   "id": "31cd0b1b-b586-48a6-b3c3-9f8252e5641f",
   "metadata": {},
   "outputs": [],
   "source": [
    "res_gradient = run_test('gradient')"
   ]
  },
  {
   "cell_type": "code",
   "execution_count": null,
   "id": "3ac61159-bbd4-49e4-a938-8f31011ed408",
   "metadata": {},
   "outputs": [],
   "source": [
    "res_striped = run_test('striped')"
   ]
  },
  {
   "cell_type": "code",
   "execution_count": null,
   "id": "ee854cec-497c-4ed9-b3ed-ce98792f3567",
   "metadata": {},
   "outputs": [],
   "source": [
    "df_no_noise = pd.DataFrame(res_no_noise)\n",
    "df_low_noise = pd.DataFrame(res_low_noise)\n",
    "df_med_noise = pd.DataFrame(res_med_noise)\n",
    "df_high_noise = pd.DataFrame(res_high_noise)\n",
    "df_gradient = pd.DataFrame(res_gradient)\n",
    "df_striped = pd.DataFrame(res_striped)\n",
    "df_test_res = pd.concat((df_no_noise,\n",
    "                         df_low_noise,\n",
    "                         df_med_noise,\n",
    "                         df_high_noise,\n",
    "                         df_gradient,\n",
    "                         df_striped))\n",
    "df_test_res"
   ]
  },
  {
   "cell_type": "code",
   "execution_count": null,
   "id": "4c60fe7e-1bf8-4523-bd30-52baa08be9dc",
   "metadata": {},
   "outputs": [],
   "source": [
    "save = False\n",
    "fname = os.path.join('estimator', 'test_res.csv')\n",
    "\n",
    "if save:\n",
    "    df_test_res.to_csv(fname)"
   ]
  },
  {
   "cell_type": "code",
   "execution_count": null,
   "id": "c3e41e89-4298-4cc3-9c5d-70cbfa38b3d1",
   "metadata": {},
   "outputs": [],
   "source": [
    "group = df_test_res[['class', 'rmse', 'pgp']].groupby('class')\n",
    "df_test_res_group = group.mean().sort_values('rmse')"
   ]
  },
  {
   "cell_type": "code",
   "execution_count": null,
   "id": "6d769b1b-4b62-4bb8-ad2f-35c4475ba958",
   "metadata": {},
   "outputs": [],
   "source": [
    "df_test_res_group"
   ]
  },
  {
   "cell_type": "code",
   "execution_count": null,
   "id": "2d990a23-f8ef-44de-a619-0e2b75775a6f",
   "metadata": {},
   "outputs": [],
   "source": []
  }
 ],
 "metadata": {
  "kernelspec": {
   "display_name": "Python 3 (ipykernel)",
   "language": "python",
   "name": "python3"
  },
  "language_info": {
   "codemirror_mode": {
    "name": "ipython",
    "version": 3
   },
   "file_extension": ".py",
   "mimetype": "text/x-python",
   "name": "python",
   "nbconvert_exporter": "python",
   "pygments_lexer": "ipython3",
   "version": "3.9.18"
  }
 },
 "nbformat": 4,
 "nbformat_minor": 5
}
