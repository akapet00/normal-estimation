{
 "cells": [
  {
   "cell_type": "code",
   "execution_count": null,
   "id": "197b780c-c276-49c7-9622-f5bc831f9af9",
   "metadata": {},
   "outputs": [],
   "source": [
    "import ast\n",
    "import os\n",
    "os.chdir(os.pardir)\n",
    "\n",
    "import numpy as np\n",
    "import pandas as pd\n",
    "from sklearn.metrics import make_scorer\n",
    "from sklearn.model_selection import GridSearchCV\n",
    "from tqdm.auto import tqdm\n",
    "\n",
    "from src import load_point_cloud\n",
    "from src import show_point_cloud\n",
    "from src import rms_angle_error\n",
    "\n",
    "from estimator import NormalEstimator"
   ]
  },
  {
   "cell_type": "markdown",
   "id": "aad6f2d0-408b-4444-9c6a-a2c0672e49ad",
   "metadata": {},
   "source": [
    "# Baseline"
   ]
  },
  {
   "cell_type": "code",
   "execution_count": null,
   "id": "15f1aaf3-ebbf-4d3d-a279-9574927382cc",
   "metadata": {},
   "outputs": [],
   "source": [
    "xyz, n = load_point_cloud('Cup33100k_ddist_minmax')"
   ]
  },
  {
   "cell_type": "code",
   "execution_count": null,
   "id": "96087084-effe-45e7-8df6-983904f8d2b8",
   "metadata": {},
   "outputs": [],
   "source": [
    "_, ax = show_point_cloud(xyz, n)"
   ]
  },
  {
   "cell_type": "code",
   "execution_count": null,
   "id": "8d60a470-8405-4d90-b9c9-cf0646cf545f",
   "metadata": {},
   "outputs": [],
   "source": [
    "k = 30\n",
    "s = k - np.sqrt(2 * k)\n",
    "s"
   ]
  },
  {
   "cell_type": "code",
   "execution_count": null,
   "id": "8feb1e36-1034-47f5-80a1-4d4078b68263",
   "metadata": {},
   "outputs": [],
   "source": [
    "estimator = NormalEstimator(k=k, deg=3, s=s, kernel=None, gamma=None)"
   ]
  },
  {
   "cell_type": "code",
   "execution_count": null,
   "id": "c6b2cbbb-3ad8-478c-87ee-c513e7da66b0",
   "metadata": {},
   "outputs": [],
   "source": [
    "estimator = estimator.fit(xyz)"
   ]
  },
  {
   "cell_type": "code",
   "execution_count": null,
   "id": "163703fd-8f45-4e95-bcb2-0fe50ee44527",
   "metadata": {},
   "outputs": [],
   "source": [
    "n_estim = estimator.predict(xyz)"
   ]
  },
  {
   "cell_type": "code",
   "execution_count": null,
   "id": "4830b5f3-ab81-423d-b917-90cb6724b353",
   "metadata": {},
   "outputs": [],
   "source": [
    "angle_err = rms_angle_error(estimator.predict(xyz), n, orient=False)\n",
    "print(f'Unoriented normal angle error = {angle_err:.4f}°')"
   ]
  },
  {
   "cell_type": "markdown",
   "id": "2f462826-7c42-4241-91fd-c43a3e1a1171",
   "metadata": {},
   "source": [
    "# Hyperparameter tuning\n",
    "\n",
    "Training set only (validation is not possible in this case).\n",
    "Validation set will be omitted."
   ]
  },
  {
   "cell_type": "code",
   "execution_count": null,
   "id": "d427f8f3-10d5-441e-8e0d-9cfe74c94284",
   "metadata": {},
   "outputs": [],
   "source": [
    "data_path = 'data'"
   ]
  },
  {
   "cell_type": "code",
   "execution_count": null,
   "id": "001b466a-086d-46af-9b83-3bdd47a4e6c0",
   "metadata": {},
   "outputs": [],
   "source": [
    "with open(os.path.join(data_path, 'trainingset_no_noise.txt')) as f:\n",
    "    trainingset_no_noise = [line.strip() for line in f]\n",
    "with open(os.path.join(data_path, 'trainingset_vardensity_whitenoise.txt')) as f:\n",
    "    trainingset_vardensity_whitenoise = [line.strip() for line in f]\n",
    "with open(os.path.join(data_path, 'trainingset_vardensity.txt')) as f:\n",
    "    trainingset_vardensity = [line.strip() for line in f]\n",
    "with open(os.path.join(data_path, 'trainingset_whitenoise.txt')) as f:\n",
    "    trainingset_whitenoise = [line.strip() for line in f]"
   ]
  },
  {
   "cell_type": "code",
   "execution_count": null,
   "id": "f8e9bc7c-be42-4ba5-99d9-77685807eab7",
   "metadata": {},
   "outputs": [],
   "source": [
    "trainingset_all = (trainingset_no_noise\n",
    "                   + trainingset_vardensity_whitenoise\n",
    "                   + trainingset_vardensity\n",
    "                   + trainingset_whitenoise)"
   ]
  },
  {
   "cell_type": "code",
   "execution_count": null,
   "id": "876520e8-8920-49d0-81a9-be1cb59d3d79",
   "metadata": {},
   "outputs": [],
   "source": [
    "X_train_d = {}\n",
    "y_train_d = {}\n",
    "for trainingset in set(trainingset_all):\n",
    "    xyz, n = load_point_cloud(trainingset)\n",
    "    X_train_d[trainingset] = xyz\n",
    "    y_train_d[trainingset] = n"
   ]
  },
  {
   "cell_type": "code",
   "execution_count": null,
   "id": "d0d06f67-05f3-4f43-99d2-54077e1986be",
   "metadata": {},
   "outputs": [],
   "source": [
    "param_grid = [{'k': [10, 30],\n",
    "               'deg': [2, 3],\n",
    "               's': [None],\n",
    "               'kernel': [None]},\n",
    "              {'k': [30, 50, 100],\n",
    "               's': [None], \n",
    "               'kernel': ['gaussian', 'inverse_multiquadric'],\n",
    "               'gamma': [0.1, 0.3, 1]},\n",
    "              {'k': [30, 50, 100],\n",
    "               's': [None, 10, 0], \n",
    "               'kernel': ['rbf'],\n",
    "               'gamma': [1, 3, 10]}]"
   ]
  },
  {
   "cell_type": "code",
   "execution_count": null,
   "id": "5b68ed50-753e-4799-a7e2-7be8c818c78b",
   "metadata": {},
   "outputs": [],
   "source": [
    "scorer = lambda y, y_pred: rms_angle_error(y_pred, y, orient=False)\n",
    "custom_scorer = make_scorer(scorer, greater_is_better=False)"
   ]
  },
  {
   "cell_type": "code",
   "execution_count": null,
   "id": "31c883f7-ccae-4157-9ce3-b237d6fea3ce",
   "metadata": {},
   "outputs": [],
   "source": [
    "def tuning():\n",
    "    df_grid_res = pd.DataFrame()\n",
    "    for key in tqdm(X_train_d.keys()):\n",
    "        grid = GridSearchCV(estimator=NormalEstimator(),\n",
    "                            param_grid=param_grid,\n",
    "                            scoring=custom_scorer,\n",
    "                            n_jobs=-1,\n",
    "                            cv=[(slice(None), slice(None))],\n",
    "                            verbose=2)\n",
    "        grid.fit(X_train_d[key], y_train_d[key])\n",
    "        df_temp = pd.DataFrame(grid.cv_results_)\n",
    "        df_temp['dataset'] = key\n",
    "        df_grid_res = pd.concat((df_grid_res, df_temp), ignore_index=True)\n",
    "        return df_grid_res"
   ]
  },
  {
   "cell_type": "code",
   "execution_count": null,
   "id": "775775cb-3e44-4639-8920-b50c8de4579c",
   "metadata": {},
   "outputs": [],
   "source": [
    "force_train = False\n",
    "save = False\n",
    "fname = os.path.join('estimator', 'grid_res.csv')\n",
    "\n",
    "if force_train:\n",
    "    print('Optimization started...')\n",
    "    df_grid_res = tuning()\n",
    "else:\n",
    "    try:\n",
    "        print('Trying to restore the grid...')\n",
    "        df_grid_res = pd.read_csv(fname, index_col=0)\n",
    "        # df_grid_res['params'] = df_grid_res['params'].apply(\n",
    "        #     lambda row: ast.literal_eval(row)\n",
    "        # )\n",
    "        print('Restoring successful.')\n",
    "    except Exception as e:\n",
    "        print(e)\n",
    "        print('Restoring failed. Fitting the surrogate model...')\n",
    "        df_grid_res = tuning()\n",
    "if save:\n",
    "    df_grid_res.to_csv(fname)"
   ]
  },
  {
   "cell_type": "markdown",
   "id": "538a39cf-a5e9-4d19-ad58-7e9a78763999",
   "metadata": {},
   "source": [
    "## Optimal parameters"
   ]
  },
  {
   "cell_type": "code",
   "execution_count": null,
   "id": "80284912-cdcb-4d2f-b72f-b0921643e97e",
   "metadata": {},
   "outputs": [],
   "source": [
    "sel = ['params', 'mean_test_score', 'dataset']"
   ]
  },
  {
   "cell_type": "code",
   "execution_count": null,
   "id": "56b642ea-4d49-4e6a-ace5-038d57e2c232",
   "metadata": {},
   "outputs": [],
   "source": [
    "rank_test_score = 1  # best performing\n",
    "df_grid_res.loc[\n",
    "    df_grid_res['rank_test_score'] == rank_test_score, sel\n",
    "].sort_values(by='dataset')"
   ]
  },
  {
   "cell_type": "code",
   "execution_count": null,
   "id": "5746a2f7-7e2e-4102-93d9-377da44280c1",
   "metadata": {},
   "outputs": [],
   "source": [
    "no_noise, low_noise, med_noise, high_noise = [], [], [], []\n",
    "for set in trainingset_whitenoise:\n",
    "    ind = set.split('_')[-1]\n",
    "    if ind == '1.00e-02':\n",
    "        low_noise.append(set)\n",
    "    elif ind == '5.00e-02':\n",
    "        med_noise.append(set)\n",
    "    elif ind == '1.00e-01':\n",
    "        high_noise.append(set)\n",
    "    else:\n",
    "        no_noise.append(set)"
   ]
  },
  {
   "cell_type": "code",
   "execution_count": null,
   "id": "00a355c7-2b55-4ca3-ad26-abdc6d78120e",
   "metadata": {},
   "outputs": [],
   "source": [
    "trainingset_vardensity\n",
    "striped, gradient = [], []\n",
    "for set in trainingset_vardensity:\n",
    "    ind = set.split('_')[-1]\n",
    "    if ind == 'layers':\n",
    "        striped.append(set)\n",
    "    elif ind == 'minmax':\n",
    "        gradient.append(set)"
   ]
  },
  {
   "cell_type": "code",
   "execution_count": null,
   "id": "81a9683a-d6b2-4674-9e55-56bbdb9ac158",
   "metadata": {},
   "outputs": [],
   "source": [
    "def mapper(row):\n",
    "    if row['dataset'] in no_noise:\n",
    "        return 'no_noise'\n",
    "    elif row['dataset'] in low_noise:\n",
    "        return 'low_noise'\n",
    "    elif row['dataset'] in med_noise:\n",
    "        return 'med_noise'\n",
    "    elif row['dataset'] in high_noise:\n",
    "        return 'high_noise'\n",
    "    elif row['dataset'] in striped:\n",
    "        return 'striped'\n",
    "    elif row['dataset'] in gradient:\n",
    "        return 'gradient'\n",
    "df_grid_res['class'] = df_grid_res[sel].apply(mapper, axis=1)"
   ]
  },
  {
   "cell_type": "code",
   "execution_count": null,
   "id": "12bc4b74-0475-4706-9e61-6999122f1945",
   "metadata": {},
   "outputs": [],
   "source": [
    "# grouping params and \"class\"; for each params-class combo, find the mean RMS\n",
    "# angle error for all availabe datasets within that class\n",
    "df_grouped = df_grid_res[['params', 'class', 'mean_test_score']].groupby(\n",
    "    by=['params', 'class']\n",
    ").mean().reset_index()\n",
    "df_grouped"
   ]
  },
  {
   "cell_type": "code",
   "execution_count": null,
   "id": "1333202c-21bb-4973-96ca-5aba291a18d7",
   "metadata": {},
   "outputs": [],
   "source": [
    "# params with the mean RMS angle error closest to zero (highest in this case)\n",
    "# should be extracted for test set\n",
    "idx_max = df_grouped.groupby('class')['mean_test_score'].idxmax()\n",
    "df_param_opt = df_grouped.loc[idx_max][['class', 'params', 'mean_test_score']]\n",
    "df_param_opt"
   ]
  },
  {
   "cell_type": "code",
   "execution_count": null,
   "id": "0af64013-7a8d-463e-8326-93eef359a004",
   "metadata": {},
   "outputs": [],
   "source": [
    "save = False\n",
    "fname = os.path.join('estimator', 'param_opt.csv')\n",
    "\n",
    "if save:\n",
    "    df_param_opt.to_csv(fname)"
   ]
  },
  {
   "cell_type": "code",
   "execution_count": null,
   "id": "01784eb1-d9b3-46cb-b2ae-c65c25eb25f1",
   "metadata": {},
   "outputs": [],
   "source": []
  }
 ],
 "metadata": {
  "kernelspec": {
   "display_name": "Python 3 (ipykernel)",
   "language": "python",
   "name": "python3"
  },
  "language_info": {
   "codemirror_mode": {
    "name": "ipython",
    "version": 3
   },
   "file_extension": ".py",
   "mimetype": "text/x-python",
   "name": "python",
   "nbconvert_exporter": "python",
   "pygments_lexer": "ipython3",
   "version": "3.9.18"
  }
 },
 "nbformat": 4,
 "nbformat_minor": 5
}
