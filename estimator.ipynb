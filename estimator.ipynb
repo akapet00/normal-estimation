{
 "cells": [
  {
   "cell_type": "code",
   "execution_count": null,
   "id": "197b780c-c276-49c7-9622-f5bc831f9af9",
   "metadata": {},
   "outputs": [],
   "source": [
    "import numpy as np\n",
    "import pandas as pd\n",
    "from scipy import interpolate\n",
    "from scipy import spatial\n",
    "from sklearn.base import BaseEstimator\n",
    "from sklearn.metrics import make_scorer\n",
    "from sklearn.model_selection import GridSearchCV\n",
    "from sklearn.utils.validation import check_array\n",
    "from sklearn.utils.validation import check_is_fitted\n",
    "\n",
    "from src import load_point_cloud\n",
    "from src import show_point_cloud\n",
    "from src import rms_angle_error\n",
    "from src.utils import apply_weight"
   ]
  },
  {
   "cell_type": "markdown",
   "id": "f972ecff-0042-4543-8fa9-a8ace1c0ce72",
   "metadata": {},
   "source": [
    "# Input data"
   ]
  },
  {
   "cell_type": "code",
   "execution_count": null,
   "id": "6ce3c132-4d7c-4631-8075-b0fa79ea8681",
   "metadata": {},
   "outputs": [],
   "source": [
    "xyz, n = load_point_cloud('Boxy_smooth100k_ddist_minmax_layers')"
   ]
  },
  {
   "cell_type": "code",
   "execution_count": null,
   "id": "f099254e-4b8e-46d9-964b-adedae768d77",
   "metadata": {},
   "outputs": [],
   "source": [
    "_, ax = show_point_cloud(xyz, n)"
   ]
  },
  {
   "cell_type": "markdown",
   "id": "d5478520-a900-4d00-8a54-c581bec36ba7",
   "metadata": {},
   "source": [
    "# Custom estimator"
   ]
  },
  {
   "cell_type": "code",
   "execution_count": null,
   "id": "40f3e316-496e-4c3b-9eb7-f445c5fb0c33",
   "metadata": {},
   "outputs": [],
   "source": [
    "class NormalEstimator(BaseEstimator):\n",
    "    \"\"\"Surface normal estimator.\n",
    "\n",
    "    Parameters\n",
    "    ----------\n",
    "    k : float, optional\n",
    "        The number of nearest neighbors of a local neighborhood around\n",
    "        a current query point. Default is 30\n",
    "    deg : str, optional\n",
    "        Degree of the bivariate spline. Default is 3\n",
    "    s : float, optional\n",
    "        Positive smoothing factor for the bivariate spline\n",
    "    kernel : str, optional\n",
    "        The weighting function. By default, all weights are set to 1\n",
    "    gamma : float, optional\n",
    "        A scaling factor for the weighting function. If not given, it\n",
    "        is set to 1\n",
    "    \"\"\"\n",
    "    def __init__(self, k=30, deg=3, s=None, kernel=None, gamma=None):\n",
    "        self.k = k\n",
    "        self.deg = deg\n",
    "        self.s = s\n",
    "        self.kernel = kernel\n",
    "        self.gamma = gamma\n",
    "\n",
    "    def fit(self, X, y=None):\n",
    "        \"\"\"A reference implementation of a fitting function.\n",
    "\n",
    "        Parameters\n",
    "        ----------\n",
    "        X : numpy.ndarray\n",
    "            The input point cloud of shape (n_points, 3)\n",
    "        y : None\n",
    "            Ignored\n",
    "\n",
    "        Returns\n",
    "        -------\n",
    "        self : object\n",
    "            Fitted normal estimator\n",
    "        \"\"\"\n",
    "        X = check_array(X, accept_sparse=True)\n",
    "        # create a kd-tree for quick nearest-neighbor lookup\n",
    "        tree = spatial.KDTree(X)\n",
    "        self.n_estim = np.empty_like(X)\n",
    "        # iterate over all points\n",
    "        for i, p in enumerate(X):\n",
    "            # local neighbourhood\n",
    "            _, idx = tree.query([p], k=self.k, workers=-1)\n",
    "            nbhd = X[idx.flatten()]\n",
    "            # change of basis\n",
    "            nbhd_c = nbhd - nbhd.mean(axis=0)\n",
    "            C = (nbhd_c.T @ nbhd_c) / (nbhd.shape[0] - 1)\n",
    "            U, _, _ = np.linalg.svd(C)\n",
    "            nbhd_t = nbhd_c @ U\n",
    "            # add weights\n",
    "            if self.kernel:\n",
    "                w = apply_weight(p, nbhd, self.kernel, self.gamma)\n",
    "            else:\n",
    "                w = np.ones((nbhd.shape[0], ))\n",
    "            # interpolate\n",
    "            h = interpolate.SmoothBivariateSpline(*nbhd_t.T,\n",
    "                                                  w=w,\n",
    "                                                  kx=self.deg,\n",
    "                                                  ky=self.deg,\n",
    "                                                  s=self.s)\n",
    "            self.interpolant_ = h\n",
    "            # compute normals as partial derivatives of the \"height\" function\n",
    "            ni = np.array([-h(*nbhd_t[0, :2], dx=1).item(),\n",
    "                           -h(*nbhd_t[0, :2], dy=1).item(),\n",
    "                           1])\n",
    "            # convert normal coordinates into the original coordinate frame\n",
    "            ni = U @ ni\n",
    "            # normalization\n",
    "            self.n_estim[i, :] = ni / np.linalg.norm(ni)\n",
    "        self.is_fitted_ = True\n",
    "        return self\n",
    "\n",
    "    def predict(self, X=None):\n",
    "        \"\"\"Return estimated normals.\n",
    "\n",
    "        Parameters\n",
    "        ----------\n",
    "        X : None\n",
    "            Ignored\n",
    "\n",
    "        Returns\n",
    "        -------\n",
    "        y : numpy.ndarray\n",
    "            Estimated surface normals of shape (n_points, 3)\n",
    "        \"\"\"\n",
    "        check_is_fitted(self, 'is_fitted_')\n",
    "        return self.n_estim"
   ]
  },
  {
   "cell_type": "markdown",
   "id": "aad6f2d0-408b-4444-9c6a-a2c0672e49ad",
   "metadata": {},
   "source": [
    "# Baseline"
   ]
  },
  {
   "cell_type": "code",
   "execution_count": null,
   "id": "8d60a470-8405-4d90-b9c9-cf0646cf545f",
   "metadata": {},
   "outputs": [],
   "source": [
    "k = 30\n",
    "s = k - np.sqrt(2 * k)\n",
    "s"
   ]
  },
  {
   "cell_type": "code",
   "execution_count": null,
   "id": "8feb1e36-1034-47f5-80a1-4d4078b68263",
   "metadata": {},
   "outputs": [],
   "source": [
    "estimator = NormalEstimator(k=k, deg=3, s=s, kernel=None, gamma=None)"
   ]
  },
  {
   "cell_type": "code",
   "execution_count": null,
   "id": "c6b2cbbb-3ad8-478c-87ee-c513e7da66b0",
   "metadata": {},
   "outputs": [],
   "source": [
    "estimator = estimator.fit(xyz)"
   ]
  },
  {
   "cell_type": "code",
   "execution_count": null,
   "id": "8b8127f6-7ae2-4fc5-b03e-2200da0658b4",
   "metadata": {},
   "outputs": [],
   "source": [
    "n_estim = estimator.predict(xyz)\n",
    "angle_err = rms_angle_error(estimator.predict(xyz), n, orient=False)\n",
    "print(f'Unoriented normal angle error = {angle_err:.4f}°')"
   ]
  },
  {
   "cell_type": "markdown",
   "id": "2f462826-7c42-4241-91fd-c43a3e1a1171",
   "metadata": {},
   "source": [
    "# Hyperparameter tuning"
   ]
  },
  {
   "cell_type": "code",
   "execution_count": null,
   "id": "f14b5050-56fa-47f6-8421-9fa945dde235",
   "metadata": {},
   "outputs": [],
   "source": [
    "param_grid = [{'k': [30, 50, 100],\n",
    "               's': [None, 10, 0], \n",
    "               'kernel': ['gaussian', 'inverse_multiquadric'],\n",
    "               'gamma': [0.1, 0.3, 1]},\n",
    "              {'k': [30, 50, 100],\n",
    "               's': [None, 10, 0], \n",
    "               'kernel': ['rbf'],\n",
    "               'gamma': [1, 3, 10]}]"
   ]
  },
  {
   "cell_type": "code",
   "execution_count": null,
   "id": "6ba93d94-dfc3-4d2d-abce-2b69907924e4",
   "metadata": {},
   "outputs": [],
   "source": [
    "scorer = lambda y, y_pred: rms_angle_error(y_pred, y, orient=False)\n",
    "custom_scorer = make_scorer(scorer, greater_is_better=False)"
   ]
  },
  {
   "cell_type": "code",
   "execution_count": null,
   "id": "593ef287-9cb8-4398-980e-d84fd8dae8c3",
   "metadata": {},
   "outputs": [],
   "source": [
    "grid = GridSearchCV(estimator=NormalEstimator(),\n",
    "                    param_grid=param_grid,\n",
    "                    scoring=custom_scorer,\n",
    "                    n_jobs=-1,\n",
    "                    cv=[(slice(None), slice(None))],\n",
    "                    verbose=2)"
   ]
  },
  {
   "cell_type": "code",
   "execution_count": null,
   "id": "d2039e3a-6024-45f0-aa4d-4ff969a0bce2",
   "metadata": {},
   "outputs": [],
   "source": [
    "grid.fit(xyz, y=n)"
   ]
  },
  {
   "cell_type": "code",
   "execution_count": null,
   "id": "7a985177-f9bf-4e4a-8ffe-cf6efc2d745a",
   "metadata": {},
   "outputs": [],
   "source": [
    "grid.best_score_"
   ]
  },
  {
   "cell_type": "code",
   "execution_count": null,
   "id": "0c5bd7c8-276b-489b-9c7a-ab465342f68f",
   "metadata": {},
   "outputs": [],
   "source": [
    "grid.best_params_"
   ]
  },
  {
   "cell_type": "code",
   "execution_count": null,
   "id": "b3fb0946-e16e-4575-83e6-c42f1c12db74",
   "metadata": {},
   "outputs": [],
   "source": [
    "pd.DataFrame(grid.cv_results_)"
   ]
  },
  {
   "cell_type": "code",
   "execution_count": null,
   "id": "9e696dc9-c635-4c7f-9bd1-6f5cc1eb6ebb",
   "metadata": {},
   "outputs": [],
   "source": []
  }
 ],
 "metadata": {
  "kernelspec": {
   "display_name": "Python 3 (ipykernel)",
   "language": "python",
   "name": "python3"
  },
  "language_info": {
   "codemirror_mode": {
    "name": "ipython",
    "version": 3
   },
   "file_extension": ".py",
   "mimetype": "text/x-python",
   "name": "python",
   "nbconvert_exporter": "python",
   "pygments_lexer": "ipython3",
   "version": "3.9.18"
  }
 },
 "nbformat": 4,
 "nbformat_minor": 5
}
